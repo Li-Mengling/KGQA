{
 "cells": [
  {
   "cell_type": "code",
   "execution_count": 2,
   "metadata": {},
   "outputs": [
    {
     "name": "stdout",
     "output_type": "stream",
     "text": [
      "shabi\n",
      "dashabi\n",
      "1\n"
     ]
    }
   ],
   "source": [
    "def test(*args):\n",
    "    name,you,a = args\n",
    "    print(name)\n",
    "    print(you)\n",
    "    print(a)\n",
    "\n",
    "\n",
    "name = \"shabi\"\n",
    "you = \"dashabi\"\n",
    "a = 1\n",
    "test(name,you,a)"
   ]
  },
  {
   "cell_type": "code",
   "execution_count": 11,
   "metadata": {},
   "outputs": [
    {
     "name": "stdout",
     "output_type": "stream",
     "text": [
      "{'node_type': 'Concept', 'name': '同步数字系列 SDH', 'enName': 'Synchronous Digital Hierarchy (SDH)', 'definition': '一种用于传输数据的标准，它使用数字信号来传输数据，并且可以支持多种协议。', 'features': '支持高速传输，可以支持多种协议，可以提供高可靠性和可靠性。'}\n"
     ]
    }
   ],
   "source": [
    "import ast\n",
    "a =\"{'node_type': 'Concept', 'name': '同步数字系列 SDH', 'enName': 'Synchronous Digital Hierarchy (SDH)', 'definition': '一种用于传输数据的标准，它使用数字信号来传输数据，并且可以支持多种协议。', 'features': '支持高速传输，可以支持多种协议，可以提供高可靠性和可靠性。'}\"\n",
    "gpt_reply = ast.literal_eval(a)\n",
    "print(gpt_reply)"
   ]
  },
  {
   "cell_type": "code",
   "execution_count": 8,
   "metadata": {},
   "outputs": [
    {
     "ename": "TypeError",
     "evalue": "No method defined to merge object 'Person'",
     "output_type": "error",
     "traceback": [
      "\u001b[0;31m---------------------------------------------------------------------------\u001b[0m",
      "\u001b[0;31mAttributeError\u001b[0m                            Traceback (most recent call last)",
      "File \u001b[0;32m~/.conda/envs/leemonlin/lib/python3.9/site-packages/py2neo/database.py:1128\u001b[0m, in \u001b[0;36mTransaction.merge\u001b[0;34m(self, subgraph, primary_label, primary_key)\u001b[0m\n\u001b[1;32m   1127\u001b[0m \u001b[39mtry\u001b[39;00m:\n\u001b[0;32m-> 1128\u001b[0m     merge \u001b[39m=\u001b[39m subgraph\u001b[39m.\u001b[39;49m__db_merge__\n\u001b[1;32m   1129\u001b[0m \u001b[39mexcept\u001b[39;00m \u001b[39mAttributeError\u001b[39;00m:\n",
      "\u001b[0;31mAttributeError\u001b[0m: 'str' object has no attribute '__db_merge__'",
      "\nDuring handling of the above exception, another exception occurred:\n",
      "\u001b[0;31mTypeError\u001b[0m                                 Traceback (most recent call last)",
      "\u001b[1;32m/mnt/data/data/home/limengling/leemonlin/python/programs/KG-based-Auto_QA-System/mind2neo/test.ipynb Cell 3\u001b[0m in \u001b[0;36m9\n\u001b[1;32m      <a href='vscode-notebook-cell://ssh-remote%2B192.168.0.175/mnt/data/data/home/limengling/leemonlin/python/programs/KG-based-Auto_QA-System/mind2neo/test.ipynb#W2sdnNjb2RlLXJlbW90ZQ%3D%3D?line=5'>6</a>\u001b[0m graph\u001b[39m.\u001b[39mdelete_all()\n\u001b[1;32m      <a href='vscode-notebook-cell://ssh-remote%2B192.168.0.175/mnt/data/data/home/limengling/leemonlin/python/programs/KG-based-Auto_QA-System/mind2neo/test.ipynb#W2sdnNjb2RlLXJlbW90ZQ%3D%3D?line=7'>8</a>\u001b[0m \u001b[39m# 合并节点\u001b[39;00m\n\u001b[0;32m----> <a href='vscode-notebook-cell://ssh-remote%2B192.168.0.175/mnt/data/data/home/limengling/leemonlin/python/programs/KG-based-Auto_QA-System/mind2neo/test.ipynb#W2sdnNjb2RlLXJlbW90ZQ%3D%3D?line=8'>9</a>\u001b[0m node \u001b[39m=\u001b[39m graph\u001b[39m.\u001b[39;49mmerge(\u001b[39m\"\u001b[39;49m\u001b[39mPerson\u001b[39;49m\u001b[39m\"\u001b[39;49m, \u001b[39m\"\u001b[39;49m\u001b[39mname\u001b[39;49m\u001b[39m\"\u001b[39;49m, \u001b[39m\"\u001b[39;49m\u001b[39mJohn\u001b[39;49m\u001b[39m\"\u001b[39;49m)\n\u001b[1;32m     <a href='vscode-notebook-cell://ssh-remote%2B192.168.0.175/mnt/data/data/home/limengling/leemonlin/python/programs/KG-based-Auto_QA-System/mind2neo/test.ipynb#W2sdnNjb2RlLXJlbW90ZQ%3D%3D?line=10'>11</a>\u001b[0m \u001b[39m# 在合并后的节点上执行其他操作\u001b[39;00m\n\u001b[1;32m     <a href='vscode-notebook-cell://ssh-remote%2B192.168.0.175/mnt/data/data/home/limengling/leemonlin/python/programs/KG-based-Auto_QA-System/mind2neo/test.ipynb#W2sdnNjb2RlLXJlbW90ZQ%3D%3D?line=11'>12</a>\u001b[0m node[\u001b[39m'\u001b[39m\u001b[39mcity\u001b[39m\u001b[39m'\u001b[39m] \u001b[39m=\u001b[39m \u001b[39m'\u001b[39m\u001b[39mNew York\u001b[39m\u001b[39m'\u001b[39m\n",
      "File \u001b[0;32m~/.conda/envs/leemonlin/lib/python3.9/site-packages/py2neo/database.py:678\u001b[0m, in \u001b[0;36mGraph.merge\u001b[0;34m(self, subgraph, label, *property_keys)\u001b[0m\n\u001b[1;32m    646\u001b[0m \u001b[39mdef\u001b[39;00m \u001b[39mmerge\u001b[39m(\u001b[39mself\u001b[39m, subgraph, label\u001b[39m=\u001b[39m\u001b[39mNone\u001b[39;00m, \u001b[39m*\u001b[39mproperty_keys):\n\u001b[1;32m    647\u001b[0m     \u001b[39m\"\"\" Run a :meth:`~py2neo.Transaction.merge` operation within an\u001b[39;00m\n\u001b[1;32m    648\u001b[0m \u001b[39m    auto-commit :class:`~py2neo.Transaction`.\u001b[39;00m\n\u001b[1;32m    649\u001b[0m \n\u001b[0;32m   (...)\u001b[0m\n\u001b[1;32m    676\u001b[0m \u001b[39m    :param property_keys: property keys on which to match any existing nodes\u001b[39;00m\n\u001b[1;32m    677\u001b[0m \u001b[39m    \"\"\"\u001b[39;00m\n\u001b[0;32m--> 678\u001b[0m     \u001b[39mself\u001b[39;49m\u001b[39m.\u001b[39;49mupdate(\u001b[39mlambda\u001b[39;49;00m tx: tx\u001b[39m.\u001b[39;49mmerge(subgraph, label, \u001b[39m*\u001b[39;49mproperty_keys))\n",
      "File \u001b[0;32m~/.conda/envs/leemonlin/lib/python3.9/site-packages/py2neo/database.py:445\u001b[0m, in \u001b[0;36mGraph.update\u001b[0;34m(self, cypher, parameters, timeout)\u001b[0m\n\u001b[1;32m    443\u001b[0m \u001b[39mif\u001b[39;00m callable(cypher):\n\u001b[1;32m    444\u001b[0m     \u001b[39mif\u001b[39;00m parameters \u001b[39mis\u001b[39;00m \u001b[39mNone\u001b[39;00m:\n\u001b[0;32m--> 445\u001b[0m         \u001b[39mself\u001b[39;49m\u001b[39m.\u001b[39;49m_update(cypher, timeout\u001b[39m=\u001b[39;49mtimeout)\n\u001b[1;32m    446\u001b[0m     \u001b[39melif\u001b[39;00m (\u001b[39misinstance\u001b[39m(parameters, \u001b[39mtuple\u001b[39m) \u001b[39mand\u001b[39;00m \u001b[39mlen\u001b[39m(parameters) \u001b[39m==\u001b[39m \u001b[39m2\u001b[39m \u001b[39mand\u001b[39;00m\n\u001b[1;32m    447\u001b[0m             \u001b[39misinstance\u001b[39m(parameters[\u001b[39m0\u001b[39m], Sequence) \u001b[39mand\u001b[39;00m \u001b[39misinstance\u001b[39m(parameters[\u001b[39m1\u001b[39m], Mapping)):\n\u001b[1;32m    448\u001b[0m         \u001b[39mself\u001b[39m\u001b[39m.\u001b[39m_update(\u001b[39mlambda\u001b[39;00m tx: cypher(tx, \u001b[39m*\u001b[39mparameters[\u001b[39m0\u001b[39m], \u001b[39m*\u001b[39m\u001b[39m*\u001b[39mparameters[\u001b[39m1\u001b[39m]),\n\u001b[1;32m    449\u001b[0m                      timeout\u001b[39m=\u001b[39mtimeout)\n",
      "File \u001b[0;32m~/.conda/envs/leemonlin/lib/python3.9/site-packages/py2neo/database.py:470\u001b[0m, in \u001b[0;36mGraph._update\u001b[0;34m(self, f, timeout)\u001b[0m\n\u001b[1;32m    466\u001b[0m \u001b[39mtry\u001b[39;00m:\n\u001b[1;32m    467\u001b[0m     tx \u001b[39m=\u001b[39m \u001b[39mself\u001b[39m\u001b[39m.\u001b[39mbegin(\n\u001b[1;32m    468\u001b[0m                     \u001b[39m# after=after, metadata=metadata, timeout=timeout\u001b[39;00m\n\u001b[1;32m    469\u001b[0m                     )\n\u001b[0;32m--> 470\u001b[0m     value \u001b[39m=\u001b[39m f(tx)\n\u001b[1;32m    471\u001b[0m     \u001b[39mif\u001b[39;00m isgenerator(value):\n\u001b[1;32m    472\u001b[0m         _ \u001b[39m=\u001b[39m \u001b[39mlist\u001b[39m(value)     \u001b[39m# exhaust the generator\u001b[39;00m\n",
      "File \u001b[0;32m~/.conda/envs/leemonlin/lib/python3.9/site-packages/py2neo/database.py:678\u001b[0m, in \u001b[0;36mGraph.merge.<locals>.<lambda>\u001b[0;34m(tx)\u001b[0m\n\u001b[1;32m    646\u001b[0m \u001b[39mdef\u001b[39;00m \u001b[39mmerge\u001b[39m(\u001b[39mself\u001b[39m, subgraph, label\u001b[39m=\u001b[39m\u001b[39mNone\u001b[39;00m, \u001b[39m*\u001b[39mproperty_keys):\n\u001b[1;32m    647\u001b[0m     \u001b[39m\"\"\" Run a :meth:`~py2neo.Transaction.merge` operation within an\u001b[39;00m\n\u001b[1;32m    648\u001b[0m \u001b[39m    auto-commit :class:`~py2neo.Transaction`.\u001b[39;00m\n\u001b[1;32m    649\u001b[0m \n\u001b[0;32m   (...)\u001b[0m\n\u001b[1;32m    676\u001b[0m \u001b[39m    :param property_keys: property keys on which to match any existing nodes\u001b[39;00m\n\u001b[1;32m    677\u001b[0m \u001b[39m    \"\"\"\u001b[39;00m\n\u001b[0;32m--> 678\u001b[0m     \u001b[39mself\u001b[39m\u001b[39m.\u001b[39mupdate(\u001b[39mlambda\u001b[39;00m tx: tx\u001b[39m.\u001b[39;49mmerge(subgraph, label, \u001b[39m*\u001b[39;49mproperty_keys))\n",
      "File \u001b[0;32m~/.conda/envs/leemonlin/lib/python3.9/site-packages/py2neo/database.py:1130\u001b[0m, in \u001b[0;36mTransaction.merge\u001b[0;34m(self, subgraph, primary_label, primary_key)\u001b[0m\n\u001b[1;32m   1128\u001b[0m     merge \u001b[39m=\u001b[39m subgraph\u001b[39m.\u001b[39m__db_merge__\n\u001b[1;32m   1129\u001b[0m \u001b[39mexcept\u001b[39;00m \u001b[39mAttributeError\u001b[39;00m:\n\u001b[0;32m-> 1130\u001b[0m     \u001b[39mraise\u001b[39;00m \u001b[39mTypeError\u001b[39;00m(\u001b[39m\"\u001b[39m\u001b[39mNo method defined to merge object \u001b[39m\u001b[39m%r\u001b[39;00m\u001b[39m\"\u001b[39m \u001b[39m%\u001b[39m subgraph)\n\u001b[1;32m   1131\u001b[0m \u001b[39melse\u001b[39;00m:\n\u001b[1;32m   1132\u001b[0m     merge(\u001b[39mself\u001b[39m, primary_label, primary_key)\n",
      "\u001b[0;31mTypeError\u001b[0m: No method defined to merge object 'Person'"
     ]
    }
   ],
   "source": [
    "from py2neo import Graph\n",
    "\n",
    "# 连接到Neo4j数据库\n",
    "graph = Graph(\"http://0.0.0.0:7474/\", auth=(\"neo4j\", \" \"))\n",
    "\n",
    "graph.delete_all()\n",
    "\n",
    "# 合并节点\n",
    "node = graph.merge(\"Person\", \"name\", \"John\")\n",
    "\n",
    "# 在合并后的节点上执行其他操作\n",
    "node['city'] = 'New York'\n",
    "node.push()\n",
    "\n",
    "# 打印节点属性\n",
    "print(node)"
   ]
  },
  {
   "cell_type": "code",
   "execution_count": 2,
   "metadata": {},
   "outputs": [
    {
     "data": {
      "text/plain": [
       "'2321321'"
      ]
     },
     "execution_count": 2,
     "metadata": {},
     "output_type": "execute_result"
    }
   ],
   "source": [
    "s = \"2321321\"\n",
    "s.replace(\"},\",\"}\")"
   ]
  },
  {
   "cell_type": "code",
   "execution_count": 9,
   "metadata": {},
   "outputs": [
    {
     "data": {
      "text/plain": [
       "{'node_type': 'Concept',\n",
       " 'name': '不可抵赖性',\n",
       " 'enName': 'Non-repudiability',\n",
       " 'definition': '指计算机系统中的某些变量不可以被否认的能力。',\n",
       " 'features': '可以确保消息发送者不能否认发送消息，可以确保消息接收者不能否认接收消息。'}"
      ]
     },
     "execution_count": 9,
     "metadata": {},
     "output_type": "execute_result"
    }
   ],
   "source": [
    "import ast\n",
    "s = r\"{'node_type': 'Concept', 'name': '不可抵赖性', 'enName': 'Non-repudiability', 'definition': '指计算机系统中的某些变量不可以被否认的能力。', 'features': '可以确保消息发送者不能否认发送消息，可以确保消息接收者不能否认接收消息。'}\"\n",
    "r = ast.literal_eval(s)\n",
    "r"
   ]
  },
  {
   "cell_type": "code",
   "execution_count": null,
   "metadata": {},
   "outputs": [],
   "source": []
  }
 ],
 "metadata": {
  "kernelspec": {
   "display_name": "Python 3.8.3 ('base')",
   "language": "python",
   "name": "python3"
  },
  "language_info": {
   "codemirror_mode": {
    "name": "ipython",
    "version": 3
   },
   "file_extension": ".py",
   "mimetype": "text/x-python",
   "name": "python",
   "nbconvert_exporter": "python",
   "pygments_lexer": "ipython3",
   "version": "3.8.3"
  },
  "orig_nbformat": 4,
  "vscode": {
   "interpreter": {
    "hash": "fd9f33d25772096a7c8a99bdfd5f38f71d106687f6640457e226f0b250d6e2cd"
   }
  }
 },
 "nbformat": 4,
 "nbformat_minor": 2
}
